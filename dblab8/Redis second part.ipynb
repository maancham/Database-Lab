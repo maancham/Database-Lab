{
 "cells": [
  {
   "cell_type": "code",
   "execution_count": 1,
   "id": "8ecfa8d2",
   "metadata": {},
   "outputs": [],
   "source": [
    "import numpy as np\n",
    "import jdatetime"
   ]
  },
  {
   "cell_type": "code",
   "execution_count": 2,
   "id": "262cfbd5",
   "metadata": {},
   "outputs": [],
   "source": [
    "akbar = jdatetime.datetime.now()"
   ]
  },
  {
   "cell_type": "code",
   "execution_count": 3,
   "id": "df32d308",
   "metadata": {},
   "outputs": [],
   "source": [
    "from redis import Redis\n",
    "red = Redis()"
   ]
  },
  {
   "cell_type": "code",
   "execution_count": 4,
   "id": "b6c19b9f",
   "metadata": {},
   "outputs": [],
   "source": [
    "def print_output(input_lst, tag, mode):\n",
    "    if (mode == 'h'):\n",
    "        print(\"Hour:\", tag, \"-\", tag+1)\n",
    "    else:\n",
    "        print(tag)\n",
    "    for d in reversed(input_lst):\n",
    "        print('-------', str((d[0]), encoding='utf8'), \n",
    "              '-------', d[1]) "
   ]
  },
  {
   "cell_type": "code",
   "execution_count": 5,
   "id": "eb1274c0",
   "metadata": {},
   "outputs": [
    {
     "name": "stdout",
     "output_type": "stream",
     "text": [
      "Please provide desired hour:\n",
      "9\n"
     ]
    }
   ],
   "source": [
    "print(\"Please provide desired hour:\")\n",
    "hour = int(input())"
   ]
  },
  {
   "cell_type": "code",
   "execution_count": 6,
   "id": "0791317f",
   "metadata": {},
   "outputs": [
    {
     "name": "stdout",
     "output_type": "stream",
     "text": [
      "Hour: 9 - 10\n",
      "------- لکما ------- 9.0\n",
      "------- فجر ------- 8.0\n",
      "------- شاخص_بورس ------- 8.0\n",
      "------- سمگا ------- 8.0\n",
      "------- خودرو ------- 8.0\n",
      "------- شپنا ------- 6.0\n",
      "------- قصفها ------- 4.0\n",
      "------- رنیک ------- 4.0\n",
      "------- برکت ------- 4.0\n",
      "------- پالایش ------- 3.0\n",
      "------- فزرین ------- 3.0\n",
      "------- غنوش ------- 3.0\n",
      "------- شستا ------- 3.0\n",
      "------- خساپا ------- 3.0\n",
      "------- آینده ------- 3.0\n"
     ]
    }
   ],
   "source": [
    "prefix = 'Hashtags:'\n",
    "access_code = \"Hashtags:{year}/0{month}/{day}\".format(year=akbar.year,\n",
    "                                                     month = akbar.month,\n",
    "                                                     day = akbar.day)\n",
    "\n",
    "if (np.floor(hour / 10) == 0):\n",
    "    hour_suffix = \":0\" + str(hour)\n",
    "else:\n",
    "    hour_suffix = \":\" + str(hour)\n",
    "hour_ranked = red.zrange(access_code + hour_suffix, -15,\n",
    "                        -1, withscores=True)\n",
    "print_output(hour_ranked, hour, \"h\")"
   ]
  },
  {
   "cell_type": "code",
   "execution_count": 7,
   "id": "0112b2fb",
   "metadata": {},
   "outputs": [
    {
     "name": "stdout",
     "output_type": "stream",
     "text": [
      "Hashtags:1400/03/25\n",
      "------- شاخص_بورس ------- 71.0\n",
      "------- شپنا ------- 30.0\n",
      "------- پالایش ------- 27.0\n",
      "------- خودرو ------- 24.0\n",
      "------- برکت ------- 20.0\n",
      "------- سمگا ------- 19.0\n",
      "------- لکما ------- 18.0\n",
      "------- فزرین ------- 16.0\n",
      "------- سصفها ------- 15.0\n",
      "------- خساپا ------- 13.0\n",
      "------- چکاپا ------- 12.0\n",
      "------- قصفها ------- 12.0\n",
      "------- فجر ------- 12.0\n",
      "------- واعتبار ------- 10.0\n",
      "------- شستا ------- 10.0\n"
     ]
    }
   ],
   "source": [
    "day_ranked = red.zrange(access_code, -15,\n",
    "                        -1, withscores=True)\n",
    "print_output(day_ranked, access_code, \"d\")"
   ]
  }
 ],
 "metadata": {
  "kernelspec": {
   "display_name": "Python 3",
   "language": "python",
   "name": "python3"
  },
  "language_info": {
   "codemirror_mode": {
    "name": "ipython",
    "version": 3
   },
   "file_extension": ".py",
   "mimetype": "text/x-python",
   "name": "python",
   "nbconvert_exporter": "python",
   "pygments_lexer": "ipython3",
   "version": "3.7.6"
  }
 },
 "nbformat": 4,
 "nbformat_minor": 5
}
